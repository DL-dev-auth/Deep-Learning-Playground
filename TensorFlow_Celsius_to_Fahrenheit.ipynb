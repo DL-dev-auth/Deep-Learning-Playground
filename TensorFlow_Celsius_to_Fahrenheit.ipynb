{
  "nbformat": 4,
  "nbformat_minor": 0,
  "metadata": {
    "colab": {
      "name": "TensorFlow-Celsius to Fahrenheit.ipynb",
      "version": "0.3.2",
      "provenance": [],
      "collapsed_sections": [],
      "include_colab_link": true
    },
    "kernelspec": {
      "name": "python3",
      "display_name": "Python 3"
    },
    "accelerator": "GPU"
  },
  "cells": [
    {
      "cell_type": "markdown",
      "metadata": {
        "id": "view-in-github",
        "colab_type": "text"
      },
      "source": [
        "<a href=\"https://colab.research.google.com/github/HappyplaceAI/hello-world/blob/master/TensorFlow_Celsius_to_Fahrenheit.ipynb\" target=\"_parent\"><img src=\"https://colab.research.google.com/assets/colab-badge.svg\" alt=\"Open In Colab\"/></a>"
      ]
    },
    {
      "cell_type": "code",
      "metadata": {
        "id": "QhnrYvHIU_c0",
        "colab_type": "code",
        "colab": {}
      },
      "source": [
        "import tensorflow as tf\n",
        "tf.logging.set_verbosity(tf.logging.ERROR)\n",
        "\n",
        "import numpy as np"
      ],
      "execution_count": 0,
      "outputs": []
    },
    {
      "cell_type": "code",
      "metadata": {
        "id": "nXu9sZhpViGD",
        "colab_type": "code",
        "colab": {
          "base_uri": "https://localhost:8080/",
          "height": 136
        },
        "outputId": "14f57c10-7082-477b-a448-f65b146cecb6"
      },
      "source": [
        "celsius_q = np.array([-40,-10,0,8,15,22,38], dtype = float)\n",
        "fahrenheit_a = np.array([-40,14,32,46,59,72,100], dtype = float)\n",
        "\n",
        "for i,c in enumerate(celsius_q):\n",
        "\n",
        "   print (\"{} degrees celsius = {} degrees Fahrenheit\".format(c,fahrenheit_a[i]))"
      ],
      "execution_count": 11,
      "outputs": [
        {
          "output_type": "stream",
          "text": [
            "-40.0 degrees celsius = -40.0 degrees Fahrenheit\n",
            "-10.0 degrees celsius = 14.0 degrees Fahrenheit\n",
            "0.0 degrees celsius = 32.0 degrees Fahrenheit\n",
            "8.0 degrees celsius = 46.0 degrees Fahrenheit\n",
            "15.0 degrees celsius = 59.0 degrees Fahrenheit\n",
            "22.0 degrees celsius = 72.0 degrees Fahrenheit\n",
            "38.0 degrees celsius = 100.0 degrees Fahrenheit\n"
          ],
          "name": "stdout"
        }
      ]
    },
    {
      "cell_type": "code",
      "metadata": {
        "id": "qjXEwyQpZJCN",
        "colab_type": "code",
        "colab": {}
      },
      "source": [
        "l0 = tf.keras.layers.Dense(units=4,input_shape=[1])\n",
        "l1 = tf.keras.layers.Dense(units=4)\n",
        "l2 = tf.keras.layers.Dense(units=4)"
      ],
      "execution_count": 0,
      "outputs": []
    },
    {
      "cell_type": "code",
      "metadata": {
        "id": "6Cqs3Qjfag2x",
        "colab_type": "code",
        "colab": {}
      },
      "source": [
        "model = tf.keras.Sequential([l0,l1,l2])"
      ],
      "execution_count": 0,
      "outputs": []
    },
    {
      "cell_type": "code",
      "metadata": {
        "id": "3KSOiPWBdLJr",
        "colab_type": "code",
        "colab": {}
      },
      "source": [
        "model.compile(loss = 'mean_squared_error',\n",
        "            optimizer = tf.keras.optimizers.Adam(0.1))"
      ],
      "execution_count": 0,
      "outputs": []
    },
    {
      "cell_type": "code",
      "metadata": {
        "id": "NOrhUYm6e7zY",
        "colab_type": "code",
        "colab": {
          "base_uri": "https://localhost:8080/",
          "height": 34
        },
        "outputId": "69a26e4d-6d19-4d04-8a54-d3b61572be17"
      },
      "source": [
        "history = model.fit(celsius_q,fahrenheit_a, epochs = 500,verbose=False)\n",
        "\n",
        "print (\"Finished training the model\")"
      ],
      "execution_count": 15,
      "outputs": [
        {
          "output_type": "stream",
          "text": [
            "Finished training the model\n"
          ],
          "name": "stdout"
        }
      ]
    },
    {
      "cell_type": "code",
      "metadata": {
        "id": "b68vbmEjfna9",
        "colab_type": "code",
        "colab": {
          "base_uri": "https://localhost:8080/",
          "height": 300
        },
        "outputId": "81b1610a-19b9-471a-e792-9e0c28dee659"
      },
      "source": [
        "import matplotlib.pyplot as plt\n",
        "plt.xlabel(\"Epoch number\")\n",
        "plt.ylabel(\"Loss magnitude\")\n",
        "plt.plot(history.history['loss'])"
      ],
      "execution_count": 16,
      "outputs": [
        {
          "output_type": "execute_result",
          "data": {
            "text/plain": [
              "[<matplotlib.lines.Line2D at 0x7feb103f1400>]"
            ]
          },
          "metadata": {
            "tags": []
          },
          "execution_count": 16
        },
        {
          "output_type": "display_data",
          "data": {
            "image/png": "[encoded data removed]",
            "text/plain": [
              "<Figure size 432x288 with 1 Axes>"
            ]
          },
          "metadata": {
            "tags": []
          }
        }
      ]
    },
    {
      "cell_type": "code",
      "metadata": {
        "id": "5BwbB9qDgL3K",
        "colab_type": "code",
        "colab": {
          "base_uri": "https://localhost:8080/",
          "height": 258
        },
        "outputId": "96963fb1-ad32-4f35-e115-eaa99b80121f"
      },
      "source": [
        "print(model.predict([100.0]))\n",
        "print(\"Model predicts that 100 degrees Celsius is: {} degrees of Fahrenheit\".format(model.predict([100.0])))\n",
        "print(\"These are the lo variables: {}\".format(l0.get_weights()))\n",
        "print(\"These are the l1 variables: {}\".format(l1.get_weights()))\n",
        "print(\"These are the l2 variables: {}\".format(l2.get_weights()))"
      ],
      "execution_count": 17,
      "outputs": [
        {
          "output_type": "stream",
          "text": [
            "[[211.74742 211.74742 211.74744 211.74745]]\n",
            "Model predicts that 100 degrees Celsius is: [[211.74742 211.74742 211.74744 211.74745]] degrees of Fahrenheit\n",
            "These are the lo variables: [array([[0.46499625, 0.30289784, 0.19190246, 0.13505378]], dtype=float32), array([3.8046312, 2.7838247, 3.6631095, 3.6150553], dtype=float32)]\n",
            "These are the l1 variables: [array([[-0.298493  , -1.3767821 ,  0.94067734, -1.0614008 ],\n",
            "       [-0.5890453 , -0.44056466,  0.25707534, -0.6551811 ],\n",
            "       [-1.1037894 ,  0.6552467 , -0.0400286 , -0.8552673 ],\n",
            "       [-0.5174092 ,  0.18421482, -0.90236795, -1.039909  ]],\n",
            "      dtype=float32), array([-3.1994996, -2.9927688,  2.0681028, -3.6111004], dtype=float32)]\n",
            "These are the l2 variables: [array([[-0.7659494 , -0.0905525 , -0.46546596, -0.82062197],\n",
            "       [-0.6309708 , -0.76863664, -0.4610312 , -0.11943252],\n",
            "       [-0.07823189, -0.5097159 ,  0.04870798,  0.6996696 ],\n",
            "       [-0.979635  , -1.4664775 , -1.2173262 , -0.96548265]],\n",
            "      dtype=float32), array([3.0125806, 3.4694865, 3.406147 , 3.5656588], dtype=float32)]\n"
          ],
          "name": "stdout"
        }
      ]
    },
    {
      "cell_type": "code",
      "metadata": {
        "id": "1Hjekslpgtid",
        "colab_type": "code",
        "colab": {
          "base_uri": "https://localhost:8080/",
          "height": 54
        },
        "outputId": "ba152e8a-0ed9-4826-ce33-83e77577def4"
      },
      "source": [
        "print(\"These are the layer variables: {}\".format(l0.get_weights()))"
      ],
      "execution_count": 18,
      "outputs": [
        {
          "output_type": "stream",
          "text": [
            "These are the layer variables: [array([[0.46499625, 0.30289784, 0.19190246, 0.13505378]], dtype=float32), array([3.8046312, 2.7838247, 3.6631095, 3.6150553], dtype=float32)]\n"
          ],
          "name": "stdout"
        }
      ]
    }
  ]
}